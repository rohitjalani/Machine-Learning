{
  "nbformat": 4,
  "nbformat_minor": 0,
  "metadata": {
    "colab": {
      "provenance": []
    },
    "kernelspec": {
      "name": "python3",
      "display_name": "Python 3"
    },
    "language_info": {
      "name": "python"
    }
  },
  "cells": [
    {
      "cell_type": "code",
      "source": [
        "from google.colab import drive\n",
        "drive.mount('/content/drive')"
      ],
      "metadata": {
        "colab": {
          "base_uri": "https://localhost:8080/"
        },
        "id": "DEy71ZKm7eax",
        "outputId": "5e239bf0-0058-4afc-c596-afe55cbc6819"
      },
      "execution_count": 36,
      "outputs": [
        {
          "output_type": "stream",
          "name": "stdout",
          "text": [
            "Drive already mounted at /content/drive; to attempt to forcibly remount, call drive.mount(\"/content/drive\", force_remount=True).\n"
          ]
        }
      ]
    },
    {
      "cell_type": "code",
      "execution_count": 57,
      "metadata": {
        "id": "xSGTcC_f4guA"
      },
      "outputs": [],
      "source": [
        "# Importing Libraries\n",
        "%matplotlib inline\n",
        "import matplotlib.pyplot as plt\n",
        "import seaborn as sns\n",
        "import pandas as pd\n",
        "from statsmodels import api as sm\n",
        "import numpy as np\n",
        "from tqdm import tqdm"
      ]
    },
    {
      "cell_type": "code",
      "source": [
        "# Importing the dataset\n",
        "df=pd.read_csv('/content/drive/MyDrive/DA2023/train.csv')"
      ],
      "metadata": {
        "id": "NopC22Jm48sN"
      },
      "execution_count": 38,
      "outputs": []
    },
    {
      "cell_type": "code",
      "source": [
        "# Filling null values in 'Id' column\n",
        "for i in df.columns[2:]:\n",
        "  df[i] = df[i].fillna(df[\"Id\"])"
      ],
      "metadata": {
        "id": "Wsdw6Vd_5AXL"
      },
      "execution_count": 39,
      "outputs": []
    },
    {
      "cell_type": "code",
      "source": [
        "# Making 'target' dataframe\n",
        "target = df[df[\"Time\"].isna()][\"Sensor_1\"].reset_index(drop=True)"
      ],
      "metadata": {
        "id": "sSP9bE1O6iGU"
      },
      "execution_count": 40,
      "outputs": []
    },
    {
      "cell_type": "code",
      "source": [
        "# Dropping irrelevant columns\n",
        "df.pop('Id')\n",
        "df.pop('Time')"
      ],
      "metadata": {
        "colab": {
          "base_uri": "https://localhost:8080/"
        },
        "id": "VaBINsn35FrU",
        "outputId": "5d4cfd59-f9b7-4d2e-c7b0-0f847fdec244"
      },
      "execution_count": 41,
      "outputs": [
        {
          "output_type": "execute_result",
          "data": {
            "text/plain": [
              "0          1.0\n",
              "1          2.0\n",
              "2          3.0\n",
              "3          4.0\n",
              "4          5.0\n",
              "          ... \n",
              "549995     7.0\n",
              "549996     8.0\n",
              "549997     9.0\n",
              "549998    10.0\n",
              "549999     NaN\n",
              "Name: Time, Length: 550000, dtype: float64"
            ]
          },
          "metadata": {},
          "execution_count": 41
        }
      ]
    },
    {
      "cell_type": "code",
      "source": [
        "# Checking columns left in training data\n",
        "df.columns"
      ],
      "metadata": {
        "colab": {
          "base_uri": "https://localhost:8080/"
        },
        "id": "PQpr45QC5ZmJ",
        "outputId": "404704e8-7acf-4a43-bc5d-b7bc5c888a00"
      },
      "execution_count": 42,
      "outputs": [
        {
          "output_type": "execute_result",
          "data": {
            "text/plain": [
              "Index(['Sensor_1', 'Sensor_2', 'Sensor_3', 'Sensor_4', 'Sensor_5', 'Sensor_6',\n",
              "       'Sensor_7', 'Sensor_8', 'Sensor_9', 'Sensor_10', 'Sensor_11',\n",
              "       'Sensor_12', 'Sensor_13', 'Sensor_14', 'Sensor_15', 'Sensor_16',\n",
              "       'Sensor_17', 'Sensor_18', 'Sensor_19', 'Sensor_20', 'Sensor_21',\n",
              "       'Sensor_22', 'Sensor_23', 'Sensor_24', 'Sensor_25'],\n",
              "      dtype='object')"
            ]
          },
          "metadata": {},
          "execution_count": 42
        }
      ]
    },
    {
      "cell_type": "code",
      "source": [
        "# Preparing training set\n",
        "sequences_train = list()\n",
        "for i in range(0,30000):\n",
        "    df_temp = df.iloc[(i*11):((i+1)*11)-1]\n",
        "    values = df_temp.values\n",
        "    values = values.transpose()\n",
        "    sequences_train.append(values)\n",
        "\n",
        "target_train=target[0:30000]"
      ],
      "metadata": {
        "id": "xWcwYUHh5HcE"
      },
      "execution_count": 43,
      "outputs": []
    },
    {
      "cell_type": "code",
      "source": [
        "# Preparing target dataframe of training set\n",
        "sequences_test = list()\n",
        "for i in range(30000,40000):\n",
        "    df_temp = df.iloc[(i*11):((i+1)*11)-1]\n",
        "    values = df_temp.values\n",
        "    values = values.transpose()\n",
        "    sequences_test.append(values)\n",
        "\n",
        "target_test=target[30000:40000]"
      ],
      "metadata": {
        "id": "ALMQbDAl5SX1"
      },
      "execution_count": 44,
      "outputs": []
    },
    {
      "cell_type": "code",
      "source": [
        "# Size of dataset\n",
        "len(df)"
      ],
      "metadata": {
        "id": "m4TKH0aq5UAL",
        "colab": {
          "base_uri": "https://localhost:8080/"
        },
        "outputId": "84269c26-c0e4-4670-f215-f29ebb164897"
      },
      "execution_count": 45,
      "outputs": [
        {
          "output_type": "execute_result",
          "data": {
            "text/plain": [
              "550000"
            ]
          },
          "metadata": {},
          "execution_count": 45
        }
      ]
    },
    {
      "cell_type": "code",
      "source": [
        "# Preparing validation set\n",
        "sequences_val = list()\n",
        "for i in range(40000,49500):\n",
        "    df_temp = df.iloc[(i*11):((i+1)*11)-1]\n",
        "    values = df_temp.values\n",
        "    values = values.transpose()\n",
        "    sequences_val.append(values)\n",
        "\n",
        "target_val=target[40000:49500]"
      ],
      "metadata": {
        "id": "XNXNllmd5wTT"
      },
      "execution_count": 46,
      "outputs": []
    },
    {
      "cell_type": "code",
      "source": [
        "# Converting them into array for fitting into LSTM model\n",
        "sequence_train=np.array(sequences_train)\n",
        "sequence_test=np.array(sequences_test)\n",
        "sequence_val=np.array(sequences_val)"
      ],
      "metadata": {
        "id": "SSLqa10g5yP6"
      },
      "execution_count": 47,
      "outputs": []
    },
    {
      "cell_type": "code",
      "source": [
        "# Importing required DL libraries\n",
        "from keras.preprocessing import sequence\n",
        "import tensorflow as tf\n",
        "from keras.models import Sequential\n",
        "from keras.layers import Dense\n",
        "from keras.layers import LSTM\n",
        "from keras.optimizers import Adam\n",
        "from keras.models import load_model\n",
        "from keras.callbacks import ModelCheckpoint\n",
        "from keras.utils import to_categorical\n",
        "from keras.layers import TimeDistributed\n",
        "from keras.layers import Bidirectional"
      ],
      "metadata": {
        "id": "NcGVm-x-50cr"
      },
      "execution_count": 48,
      "outputs": []
    },
    {
      "cell_type": "code",
      "source": [
        "# Converting targets of all sets to categorical\n",
        "targets_train=to_categorical(target_train, num_classes=4)\n",
        "targets_test=to_categorical(target_test, num_classes=4)\n",
        "targets_val=to_categorical(target_val, num_classes=4)"
      ],
      "metadata": {
        "id": "wLkOM4wb54Cj"
      },
      "execution_count": 49,
      "outputs": []
    },
    {
      "cell_type": "code",
      "source": [
        "# Preparing model\n",
        "model = Sequential()\n",
        "model.add(Bidirectional(LSTM(64, return_sequences=True, input_shape=(25, 10))))\n",
        "#model.add(BatchNormalization())\n",
        "model.add(Bidirectional(LSTM(64, return_sequences=True))) # returns a sequence of vectors of dimension 32\n",
        "#model.add(BatchNormalization())\n",
        "model.add(Bidirectional(LSTM(32, return_sequences=True)))  # returns a sequence of vectors of dimension 32\n",
        "#model.add(BatchNormalization())\n",
        "model.add(Bidirectional(LSTM(32)))\n",
        "#model.add(BatchNormalization())\n",
        "model.add(Dense(4, activation='softmax'))"
      ],
      "metadata": {
        "id": "d6BjvCGF57Dt"
      },
      "execution_count": 50,
      "outputs": []
    },
    {
      "cell_type": "code",
      "source": [
        "# Fitting model\n",
        "adam = Adam(lr=0.001)\n",
        "chk = ModelCheckpoint('best_model.pkl', monitor='val_acc', save_best_only=True, mode='max', verbose=1)\n",
        "model.compile(loss='categorical_crossentropy', optimizer=adam, metrics=['accuracy'])\n",
        "model.fit(sequence_train, targets_train, epochs=100, batch_size=128, callbacks=[chk], validation_data=(sequence_val,targets_val))"
      ],
      "metadata": {
        "id": "JxvKcHRQ58tL",
        "colab": {
          "base_uri": "https://localhost:8080/"
        },
        "outputId": "6b925939-88e2-46de-a83f-06dc5477761e"
      },
      "execution_count": 51,
      "outputs": [
        {
          "metadata": {
            "tags": null
          },
          "name": "stderr",
          "output_type": "stream",
          "text": [
            "WARNING:absl:`lr` is deprecated in Keras optimizer, please use `learning_rate` or use the legacy optimizer, e.g.,tf.keras.optimizers.legacy.Adam.\n"
          ]
        },
        {
          "metadata": {
            "tags": null
          },
          "name": "stdout",
          "output_type": "stream",
          "text": [
            "Epoch 1/100\n",
            "235/235 [==============================] - ETA: 0s - loss: 1.3746 - accuracy: 0.2941"
          ]
        },
        {
          "metadata": {
            "tags": null
          },
          "name": "stderr",
          "output_type": "stream",
          "text": [
            "WARNING:tensorflow:Can save best model only with val_acc available, skipping.\n"
          ]
        },
        {
          "metadata": {
            "tags": null
          },
          "name": "stdout",
          "output_type": "stream",
          "text": [
            "235/235 [==============================] - 98s 330ms/step - loss: 1.3746 - accuracy: 0.2941 - val_loss: 1.3645 - val_accuracy: 0.3028\n",
            "Epoch 2/100\n",
            "235/235 [==============================] - ETA: 0s - loss: 1.3351 - accuracy: 0.3390"
          ]
        },
        {
          "metadata": {
            "tags": null
          },
          "name": "stderr",
          "output_type": "stream",
          "text": [
            "WARNING:tensorflow:Can save best model only with val_acc available, skipping.\n"
          ]
        },
        {
          "metadata": {
            "tags": null
          },
          "name": "stdout",
          "output_type": "stream",
          "text": [
            "235/235 [==============================] - 68s 289ms/step - loss: 1.3351 - accuracy: 0.3390 - val_loss: 1.3027 - val_accuracy: 0.3674\n",
            "Epoch 3/100\n",
            "235/235 [==============================] - ETA: 0s - loss: 1.2971 - accuracy: 0.3702"
          ]
        },
        {
          "metadata": {
            "tags": null
          },
          "name": "stderr",
          "output_type": "stream",
          "text": [
            "WARNING:tensorflow:Can save best model only with val_acc available, skipping.\n"
          ]
        },
        {
          "metadata": {
            "tags": null
          },
          "name": "stdout",
          "output_type": "stream",
          "text": [
            "235/235 [==============================] - 66s 279ms/step - loss: 1.2971 - accuracy: 0.3702 - val_loss: 1.2594 - val_accuracy: 0.3973\n",
            "Epoch 4/100\n",
            "235/235 [==============================] - ETA: 0s - loss: 1.1482 - accuracy: 0.4582"
          ]
        },
        {
          "metadata": {
            "tags": null
          },
          "name": "stderr",
          "output_type": "stream",
          "text": [
            "WARNING:tensorflow:Can save best model only with val_acc available, skipping.\n"
          ]
        },
        {
          "metadata": {
            "tags": null
          },
          "name": "stdout",
          "output_type": "stream",
          "text": [
            "235/235 [==============================] - 71s 303ms/step - loss: 1.1482 - accuracy: 0.4582 - val_loss: 1.0773 - val_accuracy: 0.5023\n",
            "Epoch 5/100\n",
            "235/235 [==============================] - ETA: 0s - loss: 0.9275 - accuracy: 0.5748"
          ]
        },
        {
          "metadata": {
            "tags": null
          },
          "name": "stderr",
          "output_type": "stream",
          "text": [
            "WARNING:tensorflow:Can save best model only with val_acc available, skipping.\n"
          ]
        },
        {
          "metadata": {
            "tags": null
          },
          "name": "stdout",
          "output_type": "stream",
          "text": [
            "235/235 [==============================] - 67s 287ms/step - loss: 0.9275 - accuracy: 0.5748 - val_loss: 1.0904 - val_accuracy: 0.4726\n",
            "Epoch 6/100\n",
            "235/235 [==============================] - ETA: 0s - loss: 0.7976 - accuracy: 0.6385"
          ]
        },
        {
          "metadata": {
            "tags": null
          },
          "name": "stderr",
          "output_type": "stream",
          "text": [
            "WARNING:tensorflow:Can save best model only with val_acc available, skipping.\n"
          ]
        },
        {
          "metadata": {
            "tags": null
          },
          "name": "stdout",
          "output_type": "stream",
          "text": [
            "235/235 [==============================] - 71s 303ms/step - loss: 0.7976 - accuracy: 0.6385 - val_loss: 0.6723 - val_accuracy: 0.7041\n",
            "Epoch 7/100\n",
            "235/235 [==============================] - ETA: 0s - loss: 0.6297 - accuracy: 0.7216"
          ]
        },
        {
          "metadata": {
            "tags": null
          },
          "name": "stderr",
          "output_type": "stream",
          "text": [
            "WARNING:tensorflow:Can save best model only with val_acc available, skipping.\n"
          ]
        },
        {
          "metadata": {
            "tags": null
          },
          "name": "stdout",
          "output_type": "stream",
          "text": [
            "235/235 [==============================] - 68s 288ms/step - loss: 0.6297 - accuracy: 0.7216 - val_loss: 0.6072 - val_accuracy: 0.7271\n",
            "Epoch 8/100\n",
            "235/235 [==============================] - ETA: 0s - loss: 0.5415 - accuracy: 0.7642"
          ]
        },
        {
          "metadata": {
            "tags": null
          },
          "name": "stderr",
          "output_type": "stream",
          "text": [
            "WARNING:tensorflow:Can save best model only with val_acc available, skipping.\n"
          ]
        },
        {
          "metadata": {
            "tags": null
          },
          "name": "stdout",
          "output_type": "stream",
          "text": [
            "235/235 [==============================] - 68s 288ms/step - loss: 0.5415 - accuracy: 0.7642 - val_loss: 0.5251 - val_accuracy: 0.7737\n",
            "Epoch 9/100\n",
            "235/235 [==============================] - ETA: 0s - loss: 0.4835 - accuracy: 0.7894"
          ]
        },
        {
          "metadata": {
            "tags": null
          },
          "name": "stderr",
          "output_type": "stream",
          "text": [
            "WARNING:tensorflow:Can save best model only with val_acc available, skipping.\n"
          ]
        },
        {
          "metadata": {
            "tags": null
          },
          "name": "stdout",
          "output_type": "stream",
          "text": [
            "235/235 [==============================] - 72s 305ms/step - loss: 0.4835 - accuracy: 0.7894 - val_loss: 0.4871 - val_accuracy: 0.7896\n",
            "Epoch 10/100\n",
            "235/235 [==============================] - ETA: 0s - loss: 0.4424 - accuracy: 0.8088"
          ]
        },
        {
          "metadata": {
            "tags": null
          },
          "name": "stderr",
          "output_type": "stream",
          "text": [
            "WARNING:tensorflow:Can save best model only with val_acc available, skipping.\n"
          ]
        },
        {
          "metadata": {
            "tags": null
          },
          "name": "stdout",
          "output_type": "stream",
          "text": [
            "235/235 [==============================] - 66s 280ms/step - loss: 0.4424 - accuracy: 0.8088 - val_loss: 0.4132 - val_accuracy: 0.8186\n",
            "Epoch 11/100\n",
            "235/235 [==============================] - ETA: 0s - loss: 0.4012 - accuracy: 0.8270"
          ]
        },
        {
          "metadata": {
            "tags": null
          },
          "name": "stderr",
          "output_type": "stream",
          "text": [
            "WARNING:tensorflow:Can save best model only with val_acc available, skipping.\n"
          ]
        },
        {
          "metadata": {
            "tags": null
          },
          "name": "stdout",
          "output_type": "stream",
          "text": [
            "235/235 [==============================] - 72s 308ms/step - loss: 0.4012 - accuracy: 0.8270 - val_loss: 0.4282 - val_accuracy: 0.8117\n",
            "Epoch 12/100\n",
            "235/235 [==============================] - ETA: 0s - loss: 0.3839 - accuracy: 0.8352"
          ]
        },
        {
          "metadata": {
            "tags": null
          },
          "name": "stderr",
          "output_type": "stream",
          "text": [
            "WARNING:tensorflow:Can save best model only with val_acc available, skipping.\n"
          ]
        },
        {
          "metadata": {
            "tags": null
          },
          "name": "stdout",
          "output_type": "stream",
          "text": [
            "235/235 [==============================] - 66s 280ms/step - loss: 0.3839 - accuracy: 0.8352 - val_loss: 0.3918 - val_accuracy: 0.8296\n",
            "Epoch 13/100\n",
            "235/235 [==============================] - ETA: 0s - loss: 0.3402 - accuracy: 0.8533"
          ]
        },
        {
          "metadata": {
            "tags": null
          },
          "name": "stderr",
          "output_type": "stream",
          "text": [
            "WARNING:tensorflow:Can save best model only with val_acc available, skipping.\n"
          ]
        },
        {
          "metadata": {
            "tags": null
          },
          "name": "stdout",
          "output_type": "stream",
          "text": [
            "235/235 [==============================] - 67s 288ms/step - loss: 0.3402 - accuracy: 0.8533 - val_loss: 0.5010 - val_accuracy: 0.7764\n",
            "Epoch 14/100\n",
            "235/235 [==============================] - ETA: 0s - loss: 0.3366 - accuracy: 0.8554"
          ]
        },
        {
          "metadata": {
            "tags": null
          },
          "name": "stderr",
          "output_type": "stream",
          "text": [
            "WARNING:tensorflow:Can save best model only with val_acc available, skipping.\n"
          ]
        },
        {
          "metadata": {
            "tags": null
          },
          "name": "stdout",
          "output_type": "stream",
          "text": [
            "235/235 [==============================] - 71s 302ms/step - loss: 0.3366 - accuracy: 0.8554 - val_loss: 0.4243 - val_accuracy: 0.8095\n",
            "Epoch 15/100\n",
            "235/235 [==============================] - ETA: 0s - loss: 0.2979 - accuracy: 0.8720"
          ]
        },
        {
          "metadata": {
            "tags": null
          },
          "name": "stderr",
          "output_type": "stream",
          "text": [
            "WARNING:tensorflow:Can save best model only with val_acc available, skipping.\n"
          ]
        },
        {
          "metadata": {
            "tags": null
          },
          "name": "stdout",
          "output_type": "stream",
          "text": [
            "235/235 [==============================] - 67s 287ms/step - loss: 0.2979 - accuracy: 0.8720 - val_loss: 0.3413 - val_accuracy: 0.8515\n",
            "Epoch 16/100\n",
            "235/235 [==============================] - ETA: 0s - loss: 0.2857 - accuracy: 0.8787"
          ]
        },
        {
          "metadata": {
            "tags": null
          },
          "name": "stderr",
          "output_type": "stream",
          "text": [
            "WARNING:tensorflow:Can save best model only with val_acc available, skipping.\n"
          ]
        },
        {
          "metadata": {
            "tags": null
          },
          "name": "stdout",
          "output_type": "stream",
          "text": [
            "235/235 [==============================] - 67s 286ms/step - loss: 0.2857 - accuracy: 0.8787 - val_loss: 0.3284 - val_accuracy: 0.8557\n",
            "Epoch 17/100\n",
            "235/235 [==============================] - ETA: 0s - loss: 0.2582 - accuracy: 0.8897"
          ]
        },
        {
          "metadata": {
            "tags": null
          },
          "name": "stderr",
          "output_type": "stream",
          "text": [
            "WARNING:tensorflow:Can save best model only with val_acc available, skipping.\n"
          ]
        },
        {
          "metadata": {
            "tags": null
          },
          "name": "stdout",
          "output_type": "stream",
          "text": [
            "235/235 [==============================] - 64s 270ms/step - loss: 0.2582 - accuracy: 0.8897 - val_loss: 0.2407 - val_accuracy: 0.8969\n",
            "Epoch 18/100\n",
            "235/235 [==============================] - ETA: 0s - loss: 0.2564 - accuracy: 0.8895"
          ]
        },
        {
          "metadata": {
            "tags": null
          },
          "name": "stderr",
          "output_type": "stream",
          "text": [
            "WARNING:tensorflow:Can save best model only with val_acc available, skipping.\n"
          ]
        },
        {
          "metadata": {
            "tags": null
          },
          "name": "stdout",
          "output_type": "stream",
          "text": [
            "235/235 [==============================] - 65s 279ms/step - loss: 0.2564 - accuracy: 0.8895 - val_loss: 0.2864 - val_accuracy: 0.8759\n",
            "Epoch 19/100\n",
            "235/235 [==============================] - ETA: 0s - loss: 0.2429 - accuracy: 0.8964"
          ]
        },
        {
          "metadata": {
            "tags": null
          },
          "name": "stderr",
          "output_type": "stream",
          "text": [
            "WARNING:tensorflow:Can save best model only with val_acc available, skipping.\n"
          ]
        },
        {
          "metadata": {
            "tags": null
          },
          "name": "stdout",
          "output_type": "stream",
          "text": [
            "235/235 [==============================] - 69s 294ms/step - loss: 0.2429 - accuracy: 0.8964 - val_loss: 0.2761 - val_accuracy: 0.8763\n",
            "Epoch 20/100\n",
            "235/235 [==============================] - ETA: 0s - loss: 0.2399 - accuracy: 0.8995"
          ]
        },
        {
          "metadata": {
            "tags": null
          },
          "name": "stderr",
          "output_type": "stream",
          "text": [
            "WARNING:tensorflow:Can save best model only with val_acc available, skipping.\n"
          ]
        },
        {
          "metadata": {
            "tags": null
          },
          "name": "stdout",
          "output_type": "stream",
          "text": [
            "235/235 [==============================] - 67s 287ms/step - loss: 0.2399 - accuracy: 0.8995 - val_loss: 0.2251 - val_accuracy: 0.9008\n",
            "Epoch 21/100\n",
            "235/235 [==============================] - ETA: 0s - loss: 0.2164 - accuracy: 0.9086"
          ]
        },
        {
          "metadata": {
            "tags": null
          },
          "name": "stderr",
          "output_type": "stream",
          "text": [
            "WARNING:tensorflow:Can save best model only with val_acc available, skipping.\n"
          ]
        },
        {
          "metadata": {
            "tags": null
          },
          "name": "stdout",
          "output_type": "stream",
          "text": [
            "235/235 [==============================] - 68s 288ms/step - loss: 0.2164 - accuracy: 0.9086 - val_loss: 0.2738 - val_accuracy: 0.8805\n",
            "Epoch 22/100\n",
            "235/235 [==============================] - ETA: 0s - loss: 0.2048 - accuracy: 0.9117"
          ]
        },
        {
          "metadata": {
            "tags": null
          },
          "name": "stderr",
          "output_type": "stream",
          "text": [
            "WARNING:tensorflow:Can save best model only with val_acc available, skipping.\n"
          ]
        },
        {
          "metadata": {
            "tags": null
          },
          "name": "stdout",
          "output_type": "stream",
          "text": [
            "235/235 [==============================] - 71s 304ms/step - loss: 0.2048 - accuracy: 0.9117 - val_loss: 0.2194 - val_accuracy: 0.9059\n",
            "Epoch 23/100\n",
            "235/235 [==============================] - ETA: 0s - loss: 0.2084 - accuracy: 0.9103"
          ]
        },
        {
          "metadata": {
            "tags": null
          },
          "name": "stderr",
          "output_type": "stream",
          "text": [
            "WARNING:tensorflow:Can save best model only with val_acc available, skipping.\n"
          ]
        },
        {
          "metadata": {
            "tags": null
          },
          "name": "stdout",
          "output_type": "stream",
          "text": [
            "235/235 [==============================] - 66s 280ms/step - loss: 0.2084 - accuracy: 0.9103 - val_loss: 0.2183 - val_accuracy: 0.9080\n",
            "Epoch 24/100\n",
            "235/235 [==============================] - ETA: 0s - loss: 0.2026 - accuracy: 0.9151"
          ]
        },
        {
          "metadata": {
            "tags": null
          },
          "name": "stderr",
          "output_type": "stream",
          "text": [
            "WARNING:tensorflow:Can save best model only with val_acc available, skipping.\n"
          ]
        },
        {
          "metadata": {
            "tags": null
          },
          "name": "stdout",
          "output_type": "stream",
          "text": [
            "235/235 [==============================] - 71s 301ms/step - loss: 0.2026 - accuracy: 0.9151 - val_loss: 0.2049 - val_accuracy: 0.9142\n",
            "Epoch 25/100\n",
            "235/235 [==============================] - ETA: 0s - loss: 0.1872 - accuracy: 0.9209"
          ]
        },
        {
          "metadata": {
            "tags": null
          },
          "name": "stderr",
          "output_type": "stream",
          "text": [
            "WARNING:tensorflow:Can save best model only with val_acc available, skipping.\n"
          ]
        },
        {
          "metadata": {
            "tags": null
          },
          "name": "stdout",
          "output_type": "stream",
          "text": [
            "235/235 [==============================] - 68s 290ms/step - loss: 0.1872 - accuracy: 0.9209 - val_loss: 0.1973 - val_accuracy: 0.9173\n",
            "Epoch 26/100\n",
            "235/235 [==============================] - ETA: 0s - loss: 0.2063 - accuracy: 0.9123"
          ]
        },
        {
          "metadata": {
            "tags": null
          },
          "name": "stderr",
          "output_type": "stream",
          "text": [
            "WARNING:tensorflow:Can save best model only with val_acc available, skipping.\n"
          ]
        },
        {
          "metadata": {
            "tags": null
          },
          "name": "stdout",
          "output_type": "stream",
          "text": [
            "235/235 [==============================] - 68s 289ms/step - loss: 0.2063 - accuracy: 0.9123 - val_loss: 0.1973 - val_accuracy: 0.9168\n",
            "Epoch 27/100\n",
            "235/235 [==============================] - ETA: 0s - loss: 0.1757 - accuracy: 0.9261"
          ]
        },
        {
          "metadata": {
            "tags": null
          },
          "name": "stderr",
          "output_type": "stream",
          "text": [
            "WARNING:tensorflow:Can save best model only with val_acc available, skipping.\n"
          ]
        },
        {
          "metadata": {
            "tags": null
          },
          "name": "stdout",
          "output_type": "stream",
          "text": [
            "235/235 [==============================] - 72s 306ms/step - loss: 0.1757 - accuracy: 0.9261 - val_loss: 0.1851 - val_accuracy: 0.9181\n",
            "Epoch 28/100\n",
            "235/235 [==============================] - ETA: 0s - loss: 0.1710 - accuracy: 0.9272"
          ]
        },
        {
          "metadata": {
            "tags": null
          },
          "name": "stderr",
          "output_type": "stream",
          "text": [
            "WARNING:tensorflow:Can save best model only with val_acc available, skipping.\n"
          ]
        },
        {
          "metadata": {
            "tags": null
          },
          "name": "stdout",
          "output_type": "stream",
          "text": [
            "235/235 [==============================] - 66s 281ms/step - loss: 0.1710 - accuracy: 0.9272 - val_loss: 0.2107 - val_accuracy: 0.9109\n",
            "Epoch 29/100\n",
            "235/235 [==============================] - ETA: 0s - loss: 0.1742 - accuracy: 0.9260"
          ]
        },
        {
          "metadata": {
            "tags": null
          },
          "name": "stderr",
          "output_type": "stream",
          "text": [
            "WARNING:tensorflow:Can save best model only with val_acc available, skipping.\n"
          ]
        },
        {
          "metadata": {
            "tags": null
          },
          "name": "stdout",
          "output_type": "stream",
          "text": [
            "235/235 [==============================] - 68s 290ms/step - loss: 0.1742 - accuracy: 0.9260 - val_loss: 0.1975 - val_accuracy: 0.9137\n",
            "Epoch 30/100\n",
            "235/235 [==============================] - ETA: 0s - loss: 0.1755 - accuracy: 0.9262"
          ]
        },
        {
          "metadata": {
            "tags": null
          },
          "name": "stderr",
          "output_type": "stream",
          "text": [
            "WARNING:tensorflow:Can save best model only with val_acc available, skipping.\n"
          ]
        },
        {
          "metadata": {
            "tags": null
          },
          "name": "stdout",
          "output_type": "stream",
          "text": [
            "235/235 [==============================] - 73s 311ms/step - loss: 0.1755 - accuracy: 0.9262 - val_loss: 0.2119 - val_accuracy: 0.9093\n",
            "Epoch 31/100\n",
            "235/235 [==============================] - ETA: 0s - loss: 0.1631 - accuracy: 0.9297"
          ]
        },
        {
          "metadata": {
            "tags": null
          },
          "name": "stderr",
          "output_type": "stream",
          "text": [
            "WARNING:tensorflow:Can save best model only with val_acc available, skipping.\n"
          ]
        },
        {
          "metadata": {
            "tags": null
          },
          "name": "stdout",
          "output_type": "stream",
          "text": [
            "235/235 [==============================] - 71s 303ms/step - loss: 0.1631 - accuracy: 0.9297 - val_loss: 0.2637 - val_accuracy: 0.8887\n",
            "Epoch 32/100\n",
            "235/235 [==============================] - ETA: 0s - loss: 0.1600 - accuracy: 0.9333"
          ]
        },
        {
          "metadata": {
            "tags": null
          },
          "name": "stderr",
          "output_type": "stream",
          "text": [
            "WARNING:tensorflow:Can save best model only with val_acc available, skipping.\n"
          ]
        },
        {
          "metadata": {
            "tags": null
          },
          "name": "stdout",
          "output_type": "stream",
          "text": [
            "235/235 [==============================] - 74s 316ms/step - loss: 0.1600 - accuracy: 0.9333 - val_loss: 0.1617 - val_accuracy: 0.9295\n",
            "Epoch 33/100\n",
            "235/235 [==============================] - ETA: 0s - loss: 0.1493 - accuracy: 0.9396"
          ]
        },
        {
          "metadata": {
            "tags": null
          },
          "name": "stderr",
          "output_type": "stream",
          "text": [
            "WARNING:tensorflow:Can save best model only with val_acc available, skipping.\n"
          ]
        },
        {
          "metadata": {
            "tags": null
          },
          "name": "stdout",
          "output_type": "stream",
          "text": [
            "235/235 [==============================] - 66s 282ms/step - loss: 0.1493 - accuracy: 0.9396 - val_loss: 0.1493 - val_accuracy: 0.9361\n",
            "Epoch 34/100\n",
            "235/235 [==============================] - ETA: 0s - loss: 0.1769 - accuracy: 0.9247"
          ]
        },
        {
          "metadata": {
            "tags": null
          },
          "name": "stderr",
          "output_type": "stream",
          "text": [
            "WARNING:tensorflow:Can save best model only with val_acc available, skipping.\n"
          ]
        },
        {
          "metadata": {
            "tags": null
          },
          "name": "stdout",
          "output_type": "stream",
          "text": [
            "235/235 [==============================] - 70s 299ms/step - loss: 0.1769 - accuracy: 0.9247 - val_loss: 0.2333 - val_accuracy: 0.9011\n",
            "Epoch 35/100\n",
            "235/235 [==============================] - ETA: 0s - loss: 0.1542 - accuracy: 0.9337"
          ]
        },
        {
          "metadata": {
            "tags": null
          },
          "name": "stderr",
          "output_type": "stream",
          "text": [
            "WARNING:tensorflow:Can save best model only with val_acc available, skipping.\n"
          ]
        },
        {
          "metadata": {
            "tags": null
          },
          "name": "stdout",
          "output_type": "stream",
          "text": [
            "235/235 [==============================] - 70s 297ms/step - loss: 0.1542 - accuracy: 0.9337 - val_loss: 0.1571 - val_accuracy: 0.9325\n",
            "Epoch 36/100\n",
            "235/235 [==============================] - ETA: 0s - loss: 0.1435 - accuracy: 0.9401"
          ]
        },
        {
          "metadata": {
            "tags": null
          },
          "name": "stderr",
          "output_type": "stream",
          "text": [
            "WARNING:tensorflow:Can save best model only with val_acc available, skipping.\n"
          ]
        },
        {
          "metadata": {
            "tags": null
          },
          "name": "stdout",
          "output_type": "stream",
          "text": [
            "235/235 [==============================] - 69s 292ms/step - loss: 0.1435 - accuracy: 0.9401 - val_loss: 0.2007 - val_accuracy: 0.9138\n",
            "Epoch 37/100\n",
            "235/235 [==============================] - ETA: 0s - loss: 0.1551 - accuracy: 0.9353"
          ]
        },
        {
          "metadata": {
            "tags": null
          },
          "name": "stderr",
          "output_type": "stream",
          "text": [
            "WARNING:tensorflow:Can save best model only with val_acc available, skipping.\n"
          ]
        },
        {
          "metadata": {
            "tags": null
          },
          "name": "stdout",
          "output_type": "stream",
          "text": [
            "235/235 [==============================] - 74s 315ms/step - loss: 0.1551 - accuracy: 0.9353 - val_loss: 0.1673 - val_accuracy: 0.9288\n",
            "Epoch 38/100\n",
            "235/235 [==============================] - ETA: 0s - loss: 0.1562 - accuracy: 0.9335"
          ]
        },
        {
          "metadata": {
            "tags": null
          },
          "name": "stderr",
          "output_type": "stream",
          "text": [
            "WARNING:tensorflow:Can save best model only with val_acc available, skipping.\n"
          ]
        },
        {
          "metadata": {
            "tags": null
          },
          "name": "stdout",
          "output_type": "stream",
          "text": [
            "235/235 [==============================] - 66s 283ms/step - loss: 0.1562 - accuracy: 0.9335 - val_loss: 0.1768 - val_accuracy: 0.9261\n",
            "Epoch 39/100\n",
            "235/235 [==============================] - ETA: 0s - loss: 0.1356 - accuracy: 0.9428"
          ]
        },
        {
          "metadata": {
            "tags": null
          },
          "name": "stderr",
          "output_type": "stream",
          "text": [
            "WARNING:tensorflow:Can save best model only with val_acc available, skipping.\n"
          ]
        },
        {
          "metadata": {
            "tags": null
          },
          "name": "stdout",
          "output_type": "stream",
          "text": [
            "235/235 [==============================] - 71s 301ms/step - loss: 0.1356 - accuracy: 0.9428 - val_loss: 0.2344 - val_accuracy: 0.8991\n",
            "Epoch 40/100\n",
            "235/235 [==============================] - ETA: 0s - loss: 0.1332 - accuracy: 0.9439"
          ]
        },
        {
          "metadata": {
            "tags": null
          },
          "name": "stderr",
          "output_type": "stream",
          "text": [
            "WARNING:tensorflow:Can save best model only with val_acc available, skipping.\n"
          ]
        },
        {
          "metadata": {
            "tags": null
          },
          "name": "stdout",
          "output_type": "stream",
          "text": [
            "235/235 [==============================] - 70s 297ms/step - loss: 0.1332 - accuracy: 0.9439 - val_loss: 0.1787 - val_accuracy: 0.9227\n",
            "Epoch 41/100\n",
            "235/235 [==============================] - ETA: 0s - loss: 0.1335 - accuracy: 0.9453"
          ]
        },
        {
          "metadata": {
            "tags": null
          },
          "name": "stderr",
          "output_type": "stream",
          "text": [
            "WARNING:tensorflow:Can save best model only with val_acc available, skipping.\n"
          ]
        },
        {
          "metadata": {
            "tags": null
          },
          "name": "stdout",
          "output_type": "stream",
          "text": [
            "235/235 [==============================] - 66s 283ms/step - loss: 0.1335 - accuracy: 0.9453 - val_loss: 0.1422 - val_accuracy: 0.9383\n",
            "Epoch 42/100\n",
            "235/235 [==============================] - ETA: 0s - loss: 0.1422 - accuracy: 0.9416"
          ]
        },
        {
          "metadata": {
            "tags": null
          },
          "name": "stderr",
          "output_type": "stream",
          "text": [
            "WARNING:tensorflow:Can save best model only with val_acc available, skipping.\n"
          ]
        },
        {
          "metadata": {
            "tags": null
          },
          "name": "stdout",
          "output_type": "stream",
          "text": [
            "235/235 [==============================] - 70s 297ms/step - loss: 0.1422 - accuracy: 0.9416 - val_loss: 0.1808 - val_accuracy: 0.9232\n",
            "Epoch 43/100\n",
            "235/235 [==============================] - ETA: 0s - loss: 0.1233 - accuracy: 0.9495"
          ]
        },
        {
          "metadata": {
            "tags": null
          },
          "name": "stderr",
          "output_type": "stream",
          "text": [
            "WARNING:tensorflow:Can save best model only with val_acc available, skipping.\n"
          ]
        },
        {
          "metadata": {
            "tags": null
          },
          "name": "stdout",
          "output_type": "stream",
          "text": [
            "235/235 [==============================] - 68s 291ms/step - loss: 0.1233 - accuracy: 0.9495 - val_loss: 0.1781 - val_accuracy: 0.9254\n",
            "Epoch 44/100\n",
            "235/235 [==============================] - ETA: 0s - loss: 0.1398 - accuracy: 0.9399"
          ]
        },
        {
          "metadata": {
            "tags": null
          },
          "name": "stderr",
          "output_type": "stream",
          "text": [
            "WARNING:tensorflow:Can save best model only with val_acc available, skipping.\n"
          ]
        },
        {
          "metadata": {
            "tags": null
          },
          "name": "stdout",
          "output_type": "stream",
          "text": [
            "235/235 [==============================] - 68s 289ms/step - loss: 0.1398 - accuracy: 0.9399 - val_loss: 0.1874 - val_accuracy: 0.9202\n",
            "Epoch 45/100\n",
            "235/235 [==============================] - ETA: 0s - loss: 0.1333 - accuracy: 0.9448"
          ]
        },
        {
          "metadata": {
            "tags": null
          },
          "name": "stderr",
          "output_type": "stream",
          "text": [
            "WARNING:tensorflow:Can save best model only with val_acc available, skipping.\n"
          ]
        },
        {
          "metadata": {
            "tags": null
          },
          "name": "stdout",
          "output_type": "stream",
          "text": [
            "235/235 [==============================] - 72s 305ms/step - loss: 0.1333 - accuracy: 0.9448 - val_loss: 0.1818 - val_accuracy: 0.9206\n",
            "Epoch 46/100\n",
            "235/235 [==============================] - ETA: 0s - loss: 0.1319 - accuracy: 0.9453"
          ]
        },
        {
          "metadata": {
            "tags": null
          },
          "name": "stderr",
          "output_type": "stream",
          "text": [
            "WARNING:tensorflow:Can save best model only with val_acc available, skipping.\n"
          ]
        },
        {
          "metadata": {
            "tags": null
          },
          "name": "stdout",
          "output_type": "stream",
          "text": [
            "235/235 [==============================] - 66s 282ms/step - loss: 0.1319 - accuracy: 0.9453 - val_loss: 0.2229 - val_accuracy: 0.9101\n",
            "Epoch 47/100\n",
            "235/235 [==============================] - ETA: 0s - loss: 0.1226 - accuracy: 0.9504"
          ]
        },
        {
          "metadata": {
            "tags": null
          },
          "name": "stderr",
          "output_type": "stream",
          "text": [
            "WARNING:tensorflow:Can save best model only with val_acc available, skipping.\n"
          ]
        },
        {
          "metadata": {
            "tags": null
          },
          "name": "stdout",
          "output_type": "stream",
          "text": [
            "235/235 [==============================] - 68s 290ms/step - loss: 0.1226 - accuracy: 0.9504 - val_loss: 0.1794 - val_accuracy: 0.9246\n",
            "Epoch 48/100\n",
            "235/235 [==============================] - ETA: 0s - loss: 0.1219 - accuracy: 0.9489"
          ]
        },
        {
          "metadata": {
            "tags": null
          },
          "name": "stderr",
          "output_type": "stream",
          "text": [
            "WARNING:tensorflow:Can save best model only with val_acc available, skipping.\n"
          ]
        },
        {
          "metadata": {
            "tags": null
          },
          "name": "stdout",
          "output_type": "stream",
          "text": [
            "235/235 [==============================] - 73s 309ms/step - loss: 0.1219 - accuracy: 0.9489 - val_loss: 0.2393 - val_accuracy: 0.9003\n",
            "Epoch 49/100\n",
            "235/235 [==============================] - ETA: 0s - loss: 0.1274 - accuracy: 0.9467"
          ]
        },
        {
          "metadata": {
            "tags": null
          },
          "name": "stderr",
          "output_type": "stream",
          "text": [
            "WARNING:tensorflow:Can save best model only with val_acc available, skipping.\n"
          ]
        },
        {
          "metadata": {
            "tags": null
          },
          "name": "stdout",
          "output_type": "stream",
          "text": [
            "235/235 [==============================] - 70s 299ms/step - loss: 0.1274 - accuracy: 0.9467 - val_loss: 0.1906 - val_accuracy: 0.9256\n",
            "Epoch 50/100\n",
            "235/235 [==============================] - ETA: 0s - loss: 0.1231 - accuracy: 0.9497"
          ]
        },
        {
          "metadata": {
            "tags": null
          },
          "name": "stderr",
          "output_type": "stream",
          "text": [
            "WARNING:tensorflow:Can save best model only with val_acc available, skipping.\n"
          ]
        },
        {
          "metadata": {
            "tags": null
          },
          "name": "stdout",
          "output_type": "stream",
          "text": [
            "235/235 [==============================] - 70s 297ms/step - loss: 0.1231 - accuracy: 0.9497 - val_loss: 0.1782 - val_accuracy: 0.9241\n",
            "Epoch 51/100\n",
            "235/235 [==============================] - ETA: 0s - loss: 0.1241 - accuracy: 0.9478"
          ]
        },
        {
          "metadata": {
            "tags": null
          },
          "name": "stderr",
          "output_type": "stream",
          "text": [
            "WARNING:tensorflow:Can save best model only with val_acc available, skipping.\n"
          ]
        },
        {
          "metadata": {
            "tags": null
          },
          "name": "stdout",
          "output_type": "stream",
          "text": [
            "235/235 [==============================] - 66s 283ms/step - loss: 0.1241 - accuracy: 0.9478 - val_loss: 0.1686 - val_accuracy: 0.9276\n",
            "Epoch 52/100\n",
            "235/235 [==============================] - ETA: 0s - loss: 0.1166 - accuracy: 0.9503"
          ]
        },
        {
          "metadata": {
            "tags": null
          },
          "name": "stderr",
          "output_type": "stream",
          "text": [
            "WARNING:tensorflow:Can save best model only with val_acc available, skipping.\n"
          ]
        },
        {
          "metadata": {
            "tags": null
          },
          "name": "stdout",
          "output_type": "stream",
          "text": [
            "235/235 [==============================] - 66s 282ms/step - loss: 0.1166 - accuracy: 0.9503 - val_loss: 0.1580 - val_accuracy: 0.9347\n",
            "Epoch 53/100\n",
            "235/235 [==============================] - ETA: 0s - loss: 0.1164 - accuracy: 0.9518"
          ]
        },
        {
          "metadata": {
            "tags": null
          },
          "name": "stderr",
          "output_type": "stream",
          "text": [
            "WARNING:tensorflow:Can save best model only with val_acc available, skipping.\n"
          ]
        },
        {
          "metadata": {
            "tags": null
          },
          "name": "stdout",
          "output_type": "stream",
          "text": [
            "235/235 [==============================] - 71s 304ms/step - loss: 0.1164 - accuracy: 0.9518 - val_loss: 0.1461 - val_accuracy: 0.9373\n",
            "Epoch 54/100\n",
            "235/235 [==============================] - ETA: 0s - loss: 0.1179 - accuracy: 0.9529"
          ]
        },
        {
          "metadata": {
            "tags": null
          },
          "name": "stderr",
          "output_type": "stream",
          "text": [
            "WARNING:tensorflow:Can save best model only with val_acc available, skipping.\n"
          ]
        },
        {
          "metadata": {
            "tags": null
          },
          "name": "stdout",
          "output_type": "stream",
          "text": [
            "235/235 [==============================] - 68s 288ms/step - loss: 0.1179 - accuracy: 0.9529 - val_loss: 0.1754 - val_accuracy: 0.9254\n",
            "Epoch 55/100\n",
            "235/235 [==============================] - ETA: 0s - loss: 0.1064 - accuracy: 0.9564"
          ]
        },
        {
          "metadata": {
            "tags": null
          },
          "name": "stderr",
          "output_type": "stream",
          "text": [
            "WARNING:tensorflow:Can save best model only with val_acc available, skipping.\n"
          ]
        },
        {
          "metadata": {
            "tags": null
          },
          "name": "stdout",
          "output_type": "stream",
          "text": [
            "235/235 [==============================] - 68s 290ms/step - loss: 0.1064 - accuracy: 0.9564 - val_loss: 0.2396 - val_accuracy: 0.9085\n",
            "Epoch 56/100\n",
            "235/235 [==============================] - ETA: 0s - loss: 0.1141 - accuracy: 0.9531"
          ]
        },
        {
          "metadata": {
            "tags": null
          },
          "name": "stderr",
          "output_type": "stream",
          "text": [
            "WARNING:tensorflow:Can save best model only with val_acc available, skipping.\n"
          ]
        },
        {
          "metadata": {
            "tags": null
          },
          "name": "stdout",
          "output_type": "stream",
          "text": [
            "235/235 [==============================] - 74s 313ms/step - loss: 0.1141 - accuracy: 0.9531 - val_loss: 0.1723 - val_accuracy: 0.9283\n",
            "Epoch 57/100\n",
            "235/235 [==============================] - ETA: 0s - loss: 0.1159 - accuracy: 0.9518"
          ]
        },
        {
          "metadata": {
            "tags": null
          },
          "name": "stderr",
          "output_type": "stream",
          "text": [
            "WARNING:tensorflow:Can save best model only with val_acc available, skipping.\n"
          ]
        },
        {
          "metadata": {
            "tags": null
          },
          "name": "stdout",
          "output_type": "stream",
          "text": [
            "235/235 [==============================] - 66s 283ms/step - loss: 0.1159 - accuracy: 0.9518 - val_loss: 0.1980 - val_accuracy: 0.9199\n",
            "Epoch 58/100\n",
            "235/235 [==============================] - ETA: 0s - loss: 0.1059 - accuracy: 0.9582"
          ]
        },
        {
          "metadata": {
            "tags": null
          },
          "name": "stderr",
          "output_type": "stream",
          "text": [
            "WARNING:tensorflow:Can save best model only with val_acc available, skipping.\n"
          ]
        },
        {
          "metadata": {
            "tags": null
          },
          "name": "stdout",
          "output_type": "stream",
          "text": [
            "235/235 [==============================] - 72s 307ms/step - loss: 0.1059 - accuracy: 0.9582 - val_loss: 0.1525 - val_accuracy: 0.9362\n",
            "Epoch 59/100\n",
            "235/235 [==============================] - ETA: 0s - loss: 0.1235 - accuracy: 0.9506"
          ]
        },
        {
          "metadata": {
            "tags": null
          },
          "name": "stderr",
          "output_type": "stream",
          "text": [
            "WARNING:tensorflow:Can save best model only with val_acc available, skipping.\n"
          ]
        },
        {
          "metadata": {
            "tags": null
          },
          "name": "stdout",
          "output_type": "stream",
          "text": [
            "235/235 [==============================] - 68s 291ms/step - loss: 0.1235 - accuracy: 0.9506 - val_loss: 0.2369 - val_accuracy: 0.9049\n",
            "Epoch 60/100\n",
            "235/235 [==============================] - ETA: 0s - loss: 0.1114 - accuracy: 0.9528"
          ]
        },
        {
          "metadata": {
            "tags": null
          },
          "name": "stderr",
          "output_type": "stream",
          "text": [
            "WARNING:tensorflow:Can save best model only with val_acc available, skipping.\n"
          ]
        },
        {
          "metadata": {
            "tags": null
          },
          "name": "stdout",
          "output_type": "stream",
          "text": [
            "235/235 [==============================] - 67s 287ms/step - loss: 0.1114 - accuracy: 0.9528 - val_loss: 0.1764 - val_accuracy: 0.9271\n",
            "Epoch 61/100\n",
            "235/235 [==============================] - ETA: 0s - loss: 0.1037 - accuracy: 0.9569"
          ]
        },
        {
          "metadata": {
            "tags": null
          },
          "name": "stderr",
          "output_type": "stream",
          "text": [
            "WARNING:tensorflow:Can save best model only with val_acc available, skipping.\n"
          ]
        },
        {
          "metadata": {
            "tags": null
          },
          "name": "stdout",
          "output_type": "stream",
          "text": [
            "235/235 [==============================] - 71s 304ms/step - loss: 0.1037 - accuracy: 0.9569 - val_loss: 0.1553 - val_accuracy: 0.9357\n",
            "Epoch 62/100\n",
            "235/235 [==============================] - ETA: 0s - loss: 0.1008 - accuracy: 0.9609"
          ]
        },
        {
          "metadata": {
            "tags": null
          },
          "name": "stderr",
          "output_type": "stream",
          "text": [
            "WARNING:tensorflow:Can save best model only with val_acc available, skipping.\n"
          ]
        },
        {
          "metadata": {
            "tags": null
          },
          "name": "stdout",
          "output_type": "stream",
          "text": [
            "235/235 [==============================] - 68s 289ms/step - loss: 0.1008 - accuracy: 0.9609 - val_loss: 0.2058 - val_accuracy: 0.9214\n",
            "Epoch 63/100\n",
            "235/235 [==============================] - ETA: 0s - loss: 0.1164 - accuracy: 0.9517"
          ]
        },
        {
          "metadata": {
            "tags": null
          },
          "name": "stderr",
          "output_type": "stream",
          "text": [
            "WARNING:tensorflow:Can save best model only with val_acc available, skipping.\n"
          ]
        },
        {
          "metadata": {
            "tags": null
          },
          "name": "stdout",
          "output_type": "stream",
          "text": [
            "235/235 [==============================] - 72s 307ms/step - loss: 0.1164 - accuracy: 0.9517 - val_loss: 0.1860 - val_accuracy: 0.9216\n",
            "Epoch 64/100\n",
            "235/235 [==============================] - ETA: 0s - loss: 0.0989 - accuracy: 0.9609"
          ]
        },
        {
          "metadata": {
            "tags": null
          },
          "name": "stderr",
          "output_type": "stream",
          "text": [
            "WARNING:tensorflow:Can save best model only with val_acc available, skipping.\n"
          ]
        },
        {
          "metadata": {
            "tags": null
          },
          "name": "stdout",
          "output_type": "stream",
          "text": [
            "235/235 [==============================] - 69s 293ms/step - loss: 0.0989 - accuracy: 0.9609 - val_loss: 0.1533 - val_accuracy: 0.9369\n",
            "Epoch 65/100\n",
            "235/235 [==============================] - ETA: 0s - loss: 0.0966 - accuracy: 0.9602"
          ]
        },
        {
          "metadata": {
            "tags": null
          },
          "name": "stderr",
          "output_type": "stream",
          "text": [
            "WARNING:tensorflow:Can save best model only with val_acc available, skipping.\n"
          ]
        },
        {
          "metadata": {
            "tags": null
          },
          "name": "stdout",
          "output_type": "stream",
          "text": [
            "235/235 [==============================] - 66s 279ms/step - loss: 0.0966 - accuracy: 0.9602 - val_loss: 0.2347 - val_accuracy: 0.9087\n",
            "Epoch 66/100\n",
            "235/235 [==============================] - ETA: 0s - loss: 0.0909 - accuracy: 0.9625"
          ]
        },
        {
          "metadata": {
            "tags": null
          },
          "name": "stderr",
          "output_type": "stream",
          "text": [
            "WARNING:tensorflow:Can save best model only with val_acc available, skipping.\n"
          ]
        },
        {
          "metadata": {
            "tags": null
          },
          "name": "stdout",
          "output_type": "stream",
          "text": [
            "235/235 [==============================] - 71s 304ms/step - loss: 0.0909 - accuracy: 0.9625 - val_loss: 0.1642 - val_accuracy: 0.9316\n",
            "Epoch 67/100\n",
            "235/235 [==============================] - ETA: 0s - loss: 0.1220 - accuracy: 0.9501"
          ]
        },
        {
          "metadata": {
            "tags": null
          },
          "name": "stderr",
          "output_type": "stream",
          "text": [
            "WARNING:tensorflow:Can save best model only with val_acc available, skipping.\n"
          ]
        },
        {
          "metadata": {
            "tags": null
          },
          "name": "stdout",
          "output_type": "stream",
          "text": [
            "235/235 [==============================] - 68s 289ms/step - loss: 0.1220 - accuracy: 0.9501 - val_loss: 0.1670 - val_accuracy: 0.9317\n",
            "Epoch 68/100\n",
            "235/235 [==============================] - ETA: 0s - loss: 0.0911 - accuracy: 0.9634"
          ]
        },
        {
          "metadata": {
            "tags": null
          },
          "name": "stderr",
          "output_type": "stream",
          "text": [
            "WARNING:tensorflow:Can save best model only with val_acc available, skipping.\n"
          ]
        },
        {
          "metadata": {
            "tags": null
          },
          "name": "stdout",
          "output_type": "stream",
          "text": [
            "235/235 [==============================] - 67s 286ms/step - loss: 0.0911 - accuracy: 0.9634 - val_loss: 0.2323 - val_accuracy: 0.9118\n",
            "Epoch 69/100\n",
            "235/235 [==============================] - ETA: 0s - loss: 0.0989 - accuracy: 0.9599"
          ]
        },
        {
          "metadata": {
            "tags": null
          },
          "name": "stderr",
          "output_type": "stream",
          "text": [
            "WARNING:tensorflow:Can save best model only with val_acc available, skipping.\n"
          ]
        },
        {
          "metadata": {
            "tags": null
          },
          "name": "stdout",
          "output_type": "stream",
          "text": [
            "235/235 [==============================] - 71s 301ms/step - loss: 0.0989 - accuracy: 0.9599 - val_loss: 0.2043 - val_accuracy: 0.9209\n",
            "Epoch 70/100\n",
            "235/235 [==============================] - ETA: 0s - loss: 0.0900 - accuracy: 0.9632"
          ]
        },
        {
          "metadata": {
            "tags": null
          },
          "name": "stderr",
          "output_type": "stream",
          "text": [
            "WARNING:tensorflow:Can save best model only with val_acc available, skipping.\n"
          ]
        },
        {
          "metadata": {
            "tags": null
          },
          "name": "stdout",
          "output_type": "stream",
          "text": [
            "235/235 [==============================] - 62s 262ms/step - loss: 0.0900 - accuracy: 0.9632 - val_loss: 0.1685 - val_accuracy: 0.9300\n",
            "Epoch 71/100\n",
            "235/235 [==============================] - ETA: 0s - loss: 0.1011 - accuracy: 0.9594"
          ]
        },
        {
          "metadata": {
            "tags": null
          },
          "name": "stderr",
          "output_type": "stream",
          "text": [
            "WARNING:tensorflow:Can save best model only with val_acc available, skipping.\n"
          ]
        },
        {
          "metadata": {
            "tags": null
          },
          "name": "stdout",
          "output_type": "stream",
          "text": [
            "235/235 [==============================] - 64s 271ms/step - loss: 0.1011 - accuracy: 0.9594 - val_loss: 0.2314 - val_accuracy: 0.9080\n",
            "Epoch 72/100\n",
            "235/235 [==============================] - ETA: 0s - loss: 0.1158 - accuracy: 0.9532"
          ]
        },
        {
          "metadata": {
            "tags": null
          },
          "name": "stderr",
          "output_type": "stream",
          "text": [
            "WARNING:tensorflow:Can save best model only with val_acc available, skipping.\n"
          ]
        },
        {
          "metadata": {
            "tags": null
          },
          "name": "stdout",
          "output_type": "stream",
          "text": [
            "235/235 [==============================] - 61s 260ms/step - loss: 0.1158 - accuracy: 0.9532 - val_loss: 0.2831 - val_accuracy: 0.8895\n",
            "Epoch 73/100\n",
            "235/235 [==============================] - ETA: 0s - loss: 0.0850 - accuracy: 0.9671"
          ]
        },
        {
          "metadata": {
            "tags": null
          },
          "name": "stderr",
          "output_type": "stream",
          "text": [
            "WARNING:tensorflow:Can save best model only with val_acc available, skipping.\n"
          ]
        },
        {
          "metadata": {
            "tags": null
          },
          "name": "stdout",
          "output_type": "stream",
          "text": [
            "235/235 [==============================] - 61s 260ms/step - loss: 0.0850 - accuracy: 0.9671 - val_loss: 0.1677 - val_accuracy: 0.9307\n",
            "Epoch 74/100\n",
            "235/235 [==============================] - ETA: 0s - loss: 0.0926 - accuracy: 0.9629"
          ]
        },
        {
          "metadata": {
            "tags": null
          },
          "name": "stderr",
          "output_type": "stream",
          "text": [
            "WARNING:tensorflow:Can save best model only with val_acc available, skipping.\n"
          ]
        },
        {
          "metadata": {
            "tags": null
          },
          "name": "stdout",
          "output_type": "stream",
          "text": [
            "235/235 [==============================] - 64s 272ms/step - loss: 0.0926 - accuracy: 0.9629 - val_loss: 0.2015 - val_accuracy: 0.9185\n",
            "Epoch 75/100\n",
            "235/235 [==============================] - ETA: 0s - loss: 0.0917 - accuracy: 0.9636"
          ]
        },
        {
          "metadata": {
            "tags": null
          },
          "name": "stderr",
          "output_type": "stream",
          "text": [
            "WARNING:tensorflow:Can save best model only with val_acc available, skipping.\n"
          ]
        },
        {
          "metadata": {
            "tags": null
          },
          "name": "stdout",
          "output_type": "stream",
          "text": [
            "235/235 [==============================] - 61s 260ms/step - loss: 0.0917 - accuracy: 0.9636 - val_loss: 0.1590 - val_accuracy: 0.9353\n",
            "Epoch 76/100\n",
            "235/235 [==============================] - ETA: 0s - loss: 0.0962 - accuracy: 0.9601"
          ]
        },
        {
          "metadata": {
            "tags": null
          },
          "name": "stderr",
          "output_type": "stream",
          "text": [
            "WARNING:tensorflow:Can save best model only with val_acc available, skipping.\n"
          ]
        },
        {
          "metadata": {
            "tags": null
          },
          "name": "stdout",
          "output_type": "stream",
          "text": [
            "235/235 [==============================] - 61s 262ms/step - loss: 0.0962 - accuracy: 0.9601 - val_loss: 0.1959 - val_accuracy: 0.9232\n",
            "Epoch 77/100\n",
            "235/235 [==============================] - ETA: 0s - loss: 0.0825 - accuracy: 0.9669"
          ]
        },
        {
          "metadata": {
            "tags": null
          },
          "name": "stderr",
          "output_type": "stream",
          "text": [
            "WARNING:tensorflow:Can save best model only with val_acc available, skipping.\n"
          ]
        },
        {
          "metadata": {
            "tags": null
          },
          "name": "stdout",
          "output_type": "stream",
          "text": [
            "235/235 [==============================] - 64s 273ms/step - loss: 0.0825 - accuracy: 0.9669 - val_loss: 0.1729 - val_accuracy: 0.9316\n",
            "Epoch 78/100\n",
            "235/235 [==============================] - ETA: 0s - loss: 0.0837 - accuracy: 0.9664"
          ]
        },
        {
          "metadata": {
            "tags": null
          },
          "name": "stderr",
          "output_type": "stream",
          "text": [
            "WARNING:tensorflow:Can save best model only with val_acc available, skipping.\n"
          ]
        },
        {
          "metadata": {
            "tags": null
          },
          "name": "stdout",
          "output_type": "stream",
          "text": [
            "235/235 [==============================] - 61s 260ms/step - loss: 0.0837 - accuracy: 0.9664 - val_loss: 0.4368 - val_accuracy: 0.8720\n",
            "Epoch 79/100\n",
            "235/235 [==============================] - ETA: 0s - loss: 0.0886 - accuracy: 0.9642"
          ]
        },
        {
          "metadata": {
            "tags": null
          },
          "name": "stderr",
          "output_type": "stream",
          "text": [
            "WARNING:tensorflow:Can save best model only with val_acc available, skipping.\n"
          ]
        },
        {
          "metadata": {
            "tags": null
          },
          "name": "stdout",
          "output_type": "stream",
          "text": [
            "235/235 [==============================] - 61s 261ms/step - loss: 0.0886 - accuracy: 0.9642 - val_loss: 0.1908 - val_accuracy: 0.9276\n",
            "Epoch 80/100\n",
            "235/235 [==============================] - ETA: 0s - loss: 0.0820 - accuracy: 0.9673"
          ]
        },
        {
          "metadata": {
            "tags": null
          },
          "name": "stderr",
          "output_type": "stream",
          "text": [
            "WARNING:tensorflow:Can save best model only with val_acc available, skipping.\n"
          ]
        },
        {
          "metadata": {
            "tags": null
          },
          "name": "stdout",
          "output_type": "stream",
          "text": [
            "235/235 [==============================] - 69s 295ms/step - loss: 0.0820 - accuracy: 0.9673 - val_loss: 0.1738 - val_accuracy: 0.9305\n",
            "Epoch 81/100\n",
            "235/235 [==============================] - ETA: 0s - loss: 0.0966 - accuracy: 0.9623"
          ]
        },
        {
          "metadata": {
            "tags": null
          },
          "name": "stderr",
          "output_type": "stream",
          "text": [
            "WARNING:tensorflow:Can save best model only with val_acc available, skipping.\n"
          ]
        },
        {
          "metadata": {
            "tags": null
          },
          "name": "stdout",
          "output_type": "stream",
          "text": [
            "235/235 [==============================] - 64s 272ms/step - loss: 0.0966 - accuracy: 0.9623 - val_loss: 0.1553 - val_accuracy: 0.9361\n",
            "Epoch 82/100\n",
            "235/235 [==============================] - ETA: 0s - loss: 0.0842 - accuracy: 0.9663"
          ]
        },
        {
          "metadata": {
            "tags": null
          },
          "name": "stderr",
          "output_type": "stream",
          "text": [
            "WARNING:tensorflow:Can save best model only with val_acc available, skipping.\n"
          ]
        },
        {
          "metadata": {
            "tags": null
          },
          "name": "stdout",
          "output_type": "stream",
          "text": [
            "235/235 [==============================] - 61s 262ms/step - loss: 0.0842 - accuracy: 0.9663 - val_loss: 0.2247 - val_accuracy: 0.9163\n",
            "Epoch 83/100\n",
            "235/235 [==============================] - ETA: 0s - loss: 0.0830 - accuracy: 0.9685"
          ]
        },
        {
          "metadata": {
            "tags": null
          },
          "name": "stderr",
          "output_type": "stream",
          "text": [
            "WARNING:tensorflow:Can save best model only with val_acc available, skipping.\n"
          ]
        },
        {
          "metadata": {
            "tags": null
          },
          "name": "stdout",
          "output_type": "stream",
          "text": [
            "235/235 [==============================] - 64s 274ms/step - loss: 0.0830 - accuracy: 0.9685 - val_loss: 0.1498 - val_accuracy: 0.9396\n",
            "Epoch 84/100\n",
            "235/235 [==============================] - ETA: 0s - loss: 0.0724 - accuracy: 0.9711"
          ]
        },
        {
          "output_type": "stream",
          "name": "stderr",
          "text": [
            "WARNING:tensorflow:Can save best model only with val_acc available, skipping.\n"
          ]
        },
        {
          "output_type": "stream",
          "name": "stdout",
          "text": [
            "\b\b\b\b\b\b\b\b\b\b\b\b\b\b\b\b\b\b\b\b\b\b\b\b\b\b\b\b\b\b\b\b\b\b\b\b\b\b\b\b\b\b\b\b\b\b\b\b\b\b\b\b\b\b\b\b\b\b\b\b\b\b\b\b\b\b\b\b\b\b\b\b\b\b\b\b\b\b\b\b\b\b\b\b\r235/235 [==============================] - 62s 263ms/step - loss: 0.0724 - accuracy: 0.9711 - val_loss: 0.2378 - val_accuracy: 0.9123\n",
            "Epoch 85/100\n",
            "235/235 [==============================] - ETA: 0s - loss: 0.0747 - accuracy: 0.9702"
          ]
        },
        {
          "output_type": "stream",
          "name": "stderr",
          "text": [
            "WARNING:tensorflow:Can save best model only with val_acc available, skipping.\n"
          ]
        },
        {
          "output_type": "stream",
          "name": "stdout",
          "text": [
            "\b\b\b\b\b\b\b\b\b\b\b\b\b\b\b\b\b\b\b\b\b\b\b\b\b\b\b\b\b\b\b\b\b\b\b\b\b\b\b\b\b\b\b\b\b\b\b\b\b\b\b\b\b\b\b\b\b\b\b\b\b\b\b\b\b\b\b\b\b\b\b\b\b\b\b\b\b\b\b\b\b\b\b\b\r235/235 [==============================] - 62s 264ms/step - loss: 0.0747 - accuracy: 0.9702 - val_loss: 0.2157 - val_accuracy: 0.9184\n",
            "Epoch 86/100\n",
            "235/235 [==============================] - ETA: 0s - loss: 0.0754 - accuracy: 0.9707"
          ]
        },
        {
          "output_type": "stream",
          "name": "stderr",
          "text": [
            "WARNING:tensorflow:Can save best model only with val_acc available, skipping.\n"
          ]
        },
        {
          "output_type": "stream",
          "name": "stdout",
          "text": [
            "\b\b\b\b\b\b\b\b\b\b\b\b\b\b\b\b\b\b\b\b\b\b\b\b\b\b\b\b\b\b\b\b\b\b\b\b\b\b\b\b\b\b\b\b\b\b\b\b\b\b\b\b\b\b\b\b\b\b\b\b\b\b\b\b\b\b\b\b\b\b\b\b\b\b\b\b\b\b\b\b\b\b\b\b\r235/235 [==============================] - 65s 278ms/step - loss: 0.0754 - accuracy: 0.9707 - val_loss: 0.1884 - val_accuracy: 0.9283\n",
            "Epoch 87/100\n",
            "235/235 [==============================] - ETA: 0s - loss: 0.0777 - accuracy: 0.9689"
          ]
        },
        {
          "output_type": "stream",
          "name": "stderr",
          "text": [
            "WARNING:tensorflow:Can save best model only with val_acc available, skipping.\n"
          ]
        },
        {
          "output_type": "stream",
          "name": "stdout",
          "text": [
            "\b\b\b\b\b\b\b\b\b\b\b\b\b\b\b\b\b\b\b\b\b\b\b\b\b\b\b\b\b\b\b\b\b\b\b\b\b\b\b\b\b\b\b\b\b\b\b\b\b\b\b\b\b\b\b\b\b\b\b\b\b\b\b\b\b\b\b\b\b\b\b\b\b\b\b\b\b\b\b\b\b\b\b\b\r235/235 [==============================] - 63s 268ms/step - loss: 0.0777 - accuracy: 0.9689 - val_loss: 0.1747 - val_accuracy: 0.9308\n",
            "Epoch 88/100\n",
            "235/235 [==============================] - ETA: 0s - loss: 0.0728 - accuracy: 0.9706"
          ]
        },
        {
          "output_type": "stream",
          "name": "stderr",
          "text": [
            "WARNING:tensorflow:Can save best model only with val_acc available, skipping.\n"
          ]
        },
        {
          "output_type": "stream",
          "name": "stdout",
          "text": [
            "\b\b\b\b\b\b\b\b\b\b\b\b\b\b\b\b\b\b\b\b\b\b\b\b\b\b\b\b\b\b\b\b\b\b\b\b\b\b\b\b\b\b\b\b\b\b\b\b\b\b\b\b\b\b\b\b\b\b\b\b\b\b\b\b\b\b\b\b\b\b\b\b\b\b\b\b\b\b\b\b\b\b\b\b\r235/235 [==============================] - 63s 267ms/step - loss: 0.0728 - accuracy: 0.9706 - val_loss: 0.4448 - val_accuracy: 0.8699\n",
            "Epoch 89/100\n",
            "235/235 [==============================] - ETA: 0s - loss: 0.0904 - accuracy: 0.9663"
          ]
        },
        {
          "output_type": "stream",
          "name": "stderr",
          "text": [
            "WARNING:tensorflow:Can save best model only with val_acc available, skipping.\n"
          ]
        },
        {
          "output_type": "stream",
          "name": "stdout",
          "text": [
            "\b\b\b\b\b\b\b\b\b\b\b\b\b\b\b\b\b\b\b\b\b\b\b\b\b\b\b\b\b\b\b\b\b\b\b\b\b\b\b\b\b\b\b\b\b\b\b\b\b\b\b\b\b\b\b\b\b\b\b\b\b\b\b\b\b\b\b\b\b\b\b\b\b\b\b\b\b\b\b\b\b\b\b\b\r235/235 [==============================] - 69s 293ms/step - loss: 0.0904 - accuracy: 0.9663 - val_loss: 0.1765 - val_accuracy: 0.9327\n",
            "Epoch 90/100\n",
            "235/235 [==============================] - ETA: 0s - loss: 0.0795 - accuracy: 0.9705"
          ]
        },
        {
          "output_type": "stream",
          "name": "stderr",
          "text": [
            "WARNING:tensorflow:Can save best model only with val_acc available, skipping.\n"
          ]
        },
        {
          "output_type": "stream",
          "name": "stdout",
          "text": [
            "\b\b\b\b\b\b\b\b\b\b\b\b\b\b\b\b\b\b\b\b\b\b\b\b\b\b\b\b\b\b\b\b\b\b\b\b\b\b\b\b\b\b\b\b\b\b\b\b\b\b\b\b\b\b\b\b\b\b\b\b\b\b\b\b\b\b\b\b\b\b\b\b\b\b\b\b\b\b\b\b\b\b\b\b\r235/235 [==============================] - 62s 266ms/step - loss: 0.0795 - accuracy: 0.9705 - val_loss: 0.2507 - val_accuracy: 0.9069\n",
            "Epoch 91/100\n",
            "235/235 [==============================] - ETA: 0s - loss: 0.0728 - accuracy: 0.9711"
          ]
        },
        {
          "output_type": "stream",
          "name": "stderr",
          "text": [
            "WARNING:tensorflow:Can save best model only with val_acc available, skipping.\n"
          ]
        },
        {
          "output_type": "stream",
          "name": "stdout",
          "text": [
            "\b\b\b\b\b\b\b\b\b\b\b\b\b\b\b\b\b\b\b\b\b\b\b\b\b\b\b\b\b\b\b\b\b\b\b\b\b\b\b\b\b\b\b\b\b\b\b\b\b\b\b\b\b\b\b\b\b\b\b\b\b\b\b\b\b\b\b\b\b\b\b\b\b\b\b\b\b\b\b\b\b\b\b\b\r235/235 [==============================] - 63s 267ms/step - loss: 0.0728 - accuracy: 0.9711 - val_loss: 0.2735 - val_accuracy: 0.9088\n",
            "Epoch 92/100\n",
            "235/235 [==============================] - ETA: 0s - loss: 0.0651 - accuracy: 0.9758"
          ]
        },
        {
          "output_type": "stream",
          "name": "stderr",
          "text": [
            "WARNING:tensorflow:Can save best model only with val_acc available, skipping.\n"
          ]
        },
        {
          "output_type": "stream",
          "name": "stdout",
          "text": [
            "\b\b\b\b\b\b\b\b\b\b\b\b\b\b\b\b\b\b\b\b\b\b\b\b\b\b\b\b\b\b\b\b\b\b\b\b\b\b\b\b\b\b\b\b\b\b\b\b\b\b\b\b\b\b\b\b\b\b\b\b\b\b\b\b\b\b\b\b\b\b\b\b\b\b\b\b\b\b\b\b\b\b\b\b\r235/235 [==============================] - 65s 278ms/step - loss: 0.0651 - accuracy: 0.9758 - val_loss: 0.1844 - val_accuracy: 0.9286\n",
            "Epoch 93/100\n",
            "235/235 [==============================] - ETA: 0s - loss: 0.0659 - accuracy: 0.9740"
          ]
        },
        {
          "output_type": "stream",
          "name": "stderr",
          "text": [
            "WARNING:tensorflow:Can save best model only with val_acc available, skipping.\n"
          ]
        },
        {
          "output_type": "stream",
          "name": "stdout",
          "text": [
            "\b\b\b\b\b\b\b\b\b\b\b\b\b\b\b\b\b\b\b\b\b\b\b\b\b\b\b\b\b\b\b\b\b\b\b\b\b\b\b\b\b\b\b\b\b\b\b\b\b\b\b\b\b\b\b\b\b\b\b\b\b\b\b\b\b\b\b\b\b\b\b\b\b\b\b\b\b\b\b\b\b\b\b\b\r235/235 [==============================] - 63s 267ms/step - loss: 0.0659 - accuracy: 0.9740 - val_loss: 0.2276 - val_accuracy: 0.9207\n",
            "Epoch 94/100\n",
            "235/235 [==============================] - ETA: 0s - loss: 0.0692 - accuracy: 0.9731"
          ]
        },
        {
          "output_type": "stream",
          "name": "stderr",
          "text": [
            "WARNING:tensorflow:Can save best model only with val_acc available, skipping.\n"
          ]
        },
        {
          "output_type": "stream",
          "name": "stdout",
          "text": [
            "\b\b\b\b\b\b\b\b\b\b\b\b\b\b\b\b\b\b\b\b\b\b\b\b\b\b\b\b\b\b\b\b\b\b\b\b\b\b\b\b\b\b\b\b\b\b\b\b\b\b\b\b\b\b\b\b\b\b\b\b\b\b\b\b\b\b\b\b\b\b\b\b\b\b\b\b\b\b\b\b\b\b\b\b\r235/235 [==============================] - 63s 267ms/step - loss: 0.0692 - accuracy: 0.9731 - val_loss: 0.1805 - val_accuracy: 0.9345\n",
            "Epoch 95/100\n",
            "235/235 [==============================] - ETA: 0s - loss: 0.0699 - accuracy: 0.9736"
          ]
        },
        {
          "output_type": "stream",
          "name": "stderr",
          "text": [
            "WARNING:tensorflow:Can save best model only with val_acc available, skipping.\n"
          ]
        },
        {
          "output_type": "stream",
          "name": "stdout",
          "text": [
            "\b\b\b\b\b\b\b\b\b\b\b\b\b\b\b\b\b\b\b\b\b\b\b\b\b\b\b\b\b\b\b\b\b\b\b\b\b\b\b\b\b\b\b\b\b\b\b\b\b\b\b\b\b\b\b\b\b\b\b\b\b\b\b\b\b\b\b\b\b\b\b\b\b\b\b\b\b\b\b\b\b\b\b\b\r235/235 [==============================] - 70s 299ms/step - loss: 0.0699 - accuracy: 0.9736 - val_loss: 0.2167 - val_accuracy: 0.9231\n",
            "Epoch 96/100\n",
            "235/235 [==============================] - ETA: 0s - loss: 0.0712 - accuracy: 0.9733"
          ]
        },
        {
          "output_type": "stream",
          "name": "stderr",
          "text": [
            "WARNING:tensorflow:Can save best model only with val_acc available, skipping.\n"
          ]
        },
        {
          "output_type": "stream",
          "name": "stdout",
          "text": [
            "\b\b\b\b\b\b\b\b\b\b\b\b\b\b\b\b\b\b\b\b\b\b\b\b\b\b\b\b\b\b\b\b\b\b\b\b\b\b\b\b\b\b\b\b\b\b\b\b\b\b\b\b\b\b\b\b\b\b\b\b\b\b\b\b\b\b\b\b\b\b\b\b\b\b\b\b\b\b\b\b\b\b\b\b\r235/235 [==============================] - 67s 285ms/step - loss: 0.0712 - accuracy: 0.9733 - val_loss: 0.2615 - val_accuracy: 0.9079\n",
            "Epoch 97/100\n",
            "235/235 [==============================] - ETA: 0s - loss: 0.0687 - accuracy: 0.9740"
          ]
        },
        {
          "output_type": "stream",
          "name": "stderr",
          "text": [
            "WARNING:tensorflow:Can save best model only with val_acc available, skipping.\n"
          ]
        },
        {
          "output_type": "stream",
          "name": "stdout",
          "text": [
            "\b\b\b\b\b\b\b\b\b\b\b\b\b\b\b\b\b\b\b\b\b\b\b\b\b\b\b\b\b\b\b\b\b\b\b\b\b\b\b\b\b\b\b\b\b\b\b\b\b\b\b\b\b\b\b\b\b\b\b\b\b\b\b\b\b\b\b\b\b\b\b\b\b\b\b\b\b\b\b\b\b\b\b\b\r235/235 [==============================] - 76s 326ms/step - loss: 0.0687 - accuracy: 0.9740 - val_loss: 0.1636 - val_accuracy: 0.9363\n",
            "Epoch 98/100\n",
            "235/235 [==============================] - ETA: 0s - loss: 0.0611 - accuracy: 0.9761"
          ]
        },
        {
          "output_type": "stream",
          "name": "stderr",
          "text": [
            "WARNING:tensorflow:Can save best model only with val_acc available, skipping.\n"
          ]
        },
        {
          "output_type": "stream",
          "name": "stdout",
          "text": [
            "\b\b\b\b\b\b\b\b\b\b\b\b\b\b\b\b\b\b\b\b\b\b\b\b\b\b\b\b\b\b\b\b\b\b\b\b\b\b\b\b\b\b\b\b\b\b\b\b\b\b\b\b\b\b\b\b\b\b\b\b\b\b\b\b\b\b\b\b\b\b\b\b\b\b\b\b\b\b\b\b\b\b\b\b\r235/235 [==============================] - 71s 304ms/step - loss: 0.0611 - accuracy: 0.9761 - val_loss: 0.2253 - val_accuracy: 0.9211\n",
            "Epoch 99/100\n",
            "235/235 [==============================] - ETA: 0s - loss: 0.0651 - accuracy: 0.9744"
          ]
        },
        {
          "output_type": "stream",
          "name": "stderr",
          "text": [
            "WARNING:tensorflow:Can save best model only with val_acc available, skipping.\n"
          ]
        },
        {
          "output_type": "stream",
          "name": "stdout",
          "text": [
            "\b\b\b\b\b\b\b\b\b\b\b\b\b\b\b\b\b\b\b\b\b\b\b\b\b\b\b\b\b\b\b\b\b\b\b\b\b\b\b\b\b\b\b\b\b\b\b\b\b\b\b\b\b\b\b\b\b\b\b\b\b\b\b\b\b\b\b\b\b\b\b\b\b\b\b\b\b\b\b\b\b\b\b\b\r235/235 [==============================] - 73s 313ms/step - loss: 0.0651 - accuracy: 0.9744 - val_loss: 0.2516 - val_accuracy: 0.9134\n",
            "Epoch 100/100\n",
            "235/235 [==============================] - ETA: 0s - loss: 0.0606 - accuracy: 0.9766"
          ]
        },
        {
          "output_type": "stream",
          "name": "stderr",
          "text": [
            "WARNING:tensorflow:Can save best model only with val_acc available, skipping.\n"
          ]
        },
        {
          "output_type": "stream",
          "name": "stdout",
          "text": [
            "\b\b\b\b\b\b\b\b\b\b\b\b\b\b\b\b\b\b\b\b\b\b\b\b\b\b\b\b\b\b\b\b\b\b\b\b\b\b\b\b\b\b\b\b\b\b\b\b\b\b\b\b\b\b\b\b\b\b\b\b\b\b\b\b\b\b\b\b\b\b\b\b\b\b\b\b\b\b\b\b\b\b\b\b\r235/235 [==============================] - 70s 298ms/step - loss: 0.0606 - accuracy: 0.9766 - val_loss: 0.2481 - val_accuracy: 0.9153\n"
          ]
        },
        {
          "output_type": "execute_result",
          "data": {
            "text/plain": [
              "<keras.src.callbacks.History at 0x7a6a1f7ed4e0>"
            ]
          },
          "metadata": {},
          "execution_count": 51
        }
      ]
    },
    {
      "cell_type": "code",
      "source": [
        "# Perform prediction\n",
        "from sklearn.metrics import accuracy_score\n",
        "test_preds = model.predict(sequence_test)"
      ],
      "metadata": {
        "id": "VwGFDYzj6KD2",
        "colab": {
          "base_uri": "https://localhost:8080/"
        },
        "outputId": "7306d6e5-bcdd-48f2-dfdb-b4355a99c71d"
      },
      "execution_count": 52,
      "outputs": [
        {
          "output_type": "stream",
          "name": "stdout",
          "text": [
            "313/313 [==============================] - 10s 22ms/step\n"
          ]
        }
      ]
    },
    {
      "cell_type": "code",
      "source": [
        "# Print predictions\n",
        "print(test_preds)"
      ],
      "metadata": {
        "id": "Xpxzyhwo6L70",
        "colab": {
          "base_uri": "https://localhost:8080/"
        },
        "outputId": "2f60872e-2da3-4a08-e43a-81da49271652"
      },
      "execution_count": 58,
      "outputs": [
        {
          "output_type": "stream",
          "name": "stdout",
          "text": [
            "[[2.4423380e-06 1.5146946e-11 1.8166912e-07 9.9999732e-01]\n",
            " [5.0586678e-08 1.1777139e-06 9.7135240e-01 2.8646357e-02]\n",
            " [3.0340531e-01 6.9659448e-01 1.6936561e-07 4.7643067e-09]\n",
            " ...\n",
            " [9.9999803e-01 9.2646405e-07 2.8643925e-12 9.4428378e-07]\n",
            " [1.6292623e-04 9.9983668e-01 3.5882795e-07 3.5367671e-11]\n",
            " [1.2521541e-08 2.8557284e-07 9.6198845e-01 3.8011149e-02]]\n"
          ]
        }
      ]
    },
    {
      "cell_type": "markdown",
      "source": [
        "The obtained predictions needs to be converted into one among {1,2,3,4}"
      ],
      "metadata": {
        "id": "776XsCBEk09B"
      }
    },
    {
      "cell_type": "code",
      "source": [
        "# Converting predictions\n",
        "preds=[]\n",
        "for i in range(len(target_test)):\n",
        "  if test_preds[i][0]>=test_preds[i][1]:\n",
        "    if test_preds[i][0]>=test_preds[i][2]:\n",
        "      if test_preds[i][0]>=test_preds[i][3]:\n",
        "        preds.append(0)\n",
        "  if test_preds[i][1]>=test_preds[i][0]:\n",
        "    if test_preds[i][1]>=test_preds[i][2]:\n",
        "      if test_preds[i][1]>=test_preds[i][3]:\n",
        "        preds.append(1)\n",
        "  if test_preds[i][2]>=test_preds[i][1]:\n",
        "    if test_preds[i][2]>=test_preds[i][0]:\n",
        "      if test_preds[i][2]>=test_preds[i][3]:\n",
        "        preds.append(2)\n",
        "  if test_preds[i][3]>=test_preds[i][1]:\n",
        "    if test_preds[i][3]>=test_preds[i][2]:\n",
        "      if test_preds[i][3]>=test_preds[i][0]:\n",
        "        preds.append(3)"
      ],
      "metadata": {
        "id": "vz77BHTH6NLE"
      },
      "execution_count": 54,
      "outputs": []
    },
    {
      "cell_type": "code",
      "source": [
        "# Converted predictions\n",
        "target_test"
      ],
      "metadata": {
        "id": "-I2masEg6OcM",
        "colab": {
          "base_uri": "https://localhost:8080/"
        },
        "outputId": "61d86f4a-897f-402c-ff05-279e613881c0"
      },
      "execution_count": 55,
      "outputs": [
        {
          "data": {
            "text/plain": [
              "30000    3.0\n",
              "30001    2.0\n",
              "30002    1.0\n",
              "30003    2.0\n",
              "30004    1.0\n",
              "        ... \n",
              "39995    3.0\n",
              "39996    2.0\n",
              "39997    0.0\n",
              "39998    1.0\n",
              "39999    2.0\n",
              "Name: Sensor_1, Length: 10000, dtype: float64"
            ]
          },
          "execution_count": 55,
          "metadata": {},
          "output_type": "execute_result"
        },
        {
          "output_type": "execute_result",
          "data": {
            "text/plain": [
              "30000    3.0\n",
              "30001    2.0\n",
              "30002    1.0\n",
              "30003    2.0\n",
              "30004    1.0\n",
              "        ... \n",
              "39995    3.0\n",
              "39996    2.0\n",
              "39997    0.0\n",
              "39998    1.0\n",
              "39999    2.0\n",
              "Name: Sensor_1, Length: 10000, dtype: float64"
            ]
          },
          "metadata": {},
          "execution_count": 55
        }
      ]
    },
    {
      "cell_type": "code",
      "source": [
        "# Accuracy score\n",
        "accuracy_score(target_test,preds)"
      ],
      "metadata": {
        "colab": {
          "base_uri": "https://localhost:8080/"
        },
        "id": "O8H3hJ-biY0i",
        "outputId": "55840d69-a92f-49b2-8313-07fd006f7db1"
      },
      "execution_count": 56,
      "outputs": [
        {
          "output_type": "execute_result",
          "data": {
            "text/plain": [
              "0.9108"
            ]
          },
          "metadata": {},
          "execution_count": 56
        }
      ]
    }
  ]
}